{
 "cells": [
  {
   "cell_type": "markdown",
   "id": "1ee9e229",
   "metadata": {
    "editable": false
   },
   "source": [
    "# Tutorial 4: Plotting in R"
   ]
  },
  {
   "cell_type": "markdown",
   "id": "a64ea75c",
   "metadata": {
    "editable": false
   },
   "source": [
    "## Objectives: ##\n",
    "\n",
    "* Creating and interpretting graphical representations of numerical data. In particular:\n",
    "  * Creating a scatter plot\n",
    "  * Creating a histogram\n",
    "  * Creating a boxplot\n",
    "  \n",
    "* Computing \n",
    "  * Mean\n",
    "  * Standard Deviation\n",
    "  * 5 Number Summary\n",
    "  * Dimension"
   ]
  },
  {
   "cell_type": "markdown",
   "id": "0bce2f9e",
   "metadata": {
    "editable": false
   },
   "source": [
    "## Instructions: ##\n",
    "\n",
    "* 1. Run the data loading function found in the tools section.\n",
    "* 2. Read the information at the beginning of each question carefully.\n",
    "* 3. Answer each part of each question by writing code in the code cell, or a sentence in a markdown cell as is appropriate.\n",
    "\n",
    "#### If you need an extra code block you can use the `+` button above."
   ]
  },
  {
   "cell_type": "markdown",
   "id": "a4eea931",
   "metadata": {
    "editable": false
   },
   "source": [
    "## Formulae: ##\n",
    "\n",
    "No formlae are required for this tutorial."
   ]
  },
  {
   "cell_type": "markdown",
   "id": "1f179cec",
   "metadata": {
    "editable": false
   },
   "source": [
    "## Tools: ##"
   ]
  },
  {
   "cell_type": "code",
   "execution_count": 1,
   "id": "4ad6d89a",
   "metadata": {
    "editable": false
   },
   "outputs": [],
   "source": [
    "census <- read.csv(\"census150.csv\",header=TRUE)"
   ]
  },
  {
   "cell_type": "markdown",
   "id": "e2b66ee9",
   "metadata": {
    "editable": false
   },
   "source": [
    "## Data Information: ##\n",
    "\n",
    "### Data Set: ###\n",
    "A small random sample of observations from the 2000 U.S. Census Data.\n",
    "#### Name: #### \n",
    "* `census` - observations from the 2000 U.S. Census Data.\n",
    "\n",
    "#### Variables: ####\n",
    "* `census_year` - Census Year.\n",
    "* `state_fips_code` - Name of state.\n",
    "* `total_family_income` - Total family income (in U.S. dollars).\n",
    "* `age` - Age.\n",
    "* `sex` - Sex with levels: Female and Male.\n",
    "* `race_general` - Race with levels: American Indian or Alaska Native, Black, Chinese, Japanese, Other Asian or Pacific Islander, Two major races, White and Other.\n",
    "* `marital_status` - Marital status with levels Divorced, Married/spouse absent, Married/spouse present, Never married/single, Separated and Widowed.\n",
    "* `total_personal_income` - Total personal income (in U.S. dollars).\n",
    "* `percent_family_income` - the percent of the family income earned by the participant, calculated by dividing the personal income by the family income (unless the family income is 0, then the value of this variable is set to 0) given as a percentage.\n"
   ]
  },
  {
   "cell_type": "markdown",
   "id": "900b0489",
   "metadata": {
    "editable": false
   },
   "source": [
    "## Question 1. Displaying information about a data set¶ ##\n"
   ]
  },
  {
   "cell_type": "markdown",
   "id": "36a9bb25",
   "metadata": {
    "editable": false
   },
   "source": [
    "There are several simple commands that can be used to display the data set or things about the data set.\n",
    "* a. Use the `head(`&lt;dataName&gt;`)` to display the first six lines of each data set.\n",
    "* b. Use the `tail(`&lt;dataName&gt;`)` to display the last six lines of each data set.\n",
    "* c. Use the `dim(`&lt;dataName&gt;`)` to display the dimensions of each data set, that is how many rows and columns are in each data set."
   ]
  },
  {
   "cell_type": "code",
   "execution_count": null,
   "id": "01679761",
   "metadata": {},
   "outputs": [],
   "source": []
  },
  {
   "cell_type": "code",
   "execution_count": null,
   "id": "d7111f10",
   "metadata": {},
   "outputs": [],
   "source": []
  },
  {
   "cell_type": "code",
   "execution_count": null,
   "id": "e6e9c109",
   "metadata": {},
   "outputs": [],
   "source": []
  },
  {
   "cell_type": "markdown",
   "id": "14df5fa2",
   "metadata": {
    "editable": false
   },
   "source": [
    "## Question 2. Displaying information about a variable ##\n",
    "\n",
    "To display information about a variable from a data set you need to indicate where the variable can be found. \n",
    "\n",
    "The format is &lt;dataName&gt;\\$&lt;varName&gt;.\n",
    "\n",
    "* a. Use the commands `min(`&lt;dataName&gt;\\$&lt;varName&gt;`)` and `max(`&lt;dataName&gt;\\$&lt;varName&gt;`)` to determine the minimum and maximum of `percent_family_income`.<br>\n",
    "\n",
    "* b. Use the command `mean(`&lt;dataName&gt;\\$&lt;varName&gt;`)` to determine the mean of `age`.\n",
    "\n",
    "* c. Use the command `sd(`&lt;dataName&gt;\\$&lt;varName&gt;`)` to find the standard deviation of `age`.\n",
    "\n",
    "* d. Use the command `summary(`&lt;dataName&gt;\\$&lt;varName&gt;`)` to find the five number summary of `percent_family_income`.\n",
    "\n"
   ]
  },
  {
   "cell_type": "code",
   "execution_count": null,
   "id": "a12fe91c",
   "metadata": {},
   "outputs": [],
   "source": []
  },
  {
   "cell_type": "code",
   "execution_count": null,
   "id": "d3403d13",
   "metadata": {},
   "outputs": [],
   "source": []
  },
  {
   "cell_type": "code",
   "execution_count": null,
   "id": "c4bc9273",
   "metadata": {},
   "outputs": [],
   "source": []
  },
  {
   "cell_type": "code",
   "execution_count": null,
   "id": "36f7a070",
   "metadata": {},
   "outputs": [],
   "source": []
  },
  {
   "cell_type": "code",
   "execution_count": null,
   "id": "642e0956",
   "metadata": {},
   "outputs": [],
   "source": []
  },
  {
   "cell_type": "markdown",
   "id": "3fbcb32c",
   "metadata": {
    "editable": false
   },
   "source": [
    "## Question 3. Create  a histogram ##\n",
    "\n",
    "The histogram command has the format `hist(` &lt;dataName&gt;\\$&lt;varName&gt; `,` &lt;options -see below&gt; `)`<br>\n",
    "Options appear in a comma delimited list:<br>\n",
    "`breaks = n` - where n is the number of bins (or number of bars/columns)<br>\n",
    "`main = \"title\"` - where title is the title for the histogram.\n",
    "* a. Create a titled histogram for the personal income of participants. Do NOT set the number of breaks.\n",
    "* b. Create a titled histogram for the personal income of participants. Use fewer breaks than the histogram created for part a.\n",
    "* c. Create a titled histogram for the personal income of participants. Use more breaks than the histogram created for part a.\n",
    "* d. Which of the histograms best depicts the data. Why did you choose that histogram?"
   ]
  },
  {
   "cell_type": "code",
   "execution_count": null,
   "id": "e9512883",
   "metadata": {},
   "outputs": [],
   "source": []
  },
  {
   "cell_type": "code",
   "execution_count": null,
   "id": "edd8c372",
   "metadata": {},
   "outputs": [],
   "source": []
  },
  {
   "cell_type": "code",
   "execution_count": null,
   "id": "b2e4d5f9",
   "metadata": {},
   "outputs": [],
   "source": []
  },
  {
   "cell_type": "markdown",
   "id": "6e8ef718",
   "metadata": {},
   "source": [
    "Type your answer for d here"
   ]
  },
  {
   "cell_type": "markdown",
   "id": "243d3752",
   "metadata": {
    "editable": false
   },
   "source": [
    "## Question 4. Create a boxplot\n",
    "\n",
    "The boxplot command has the format\n",
    "\n",
    "- For a single varialbe `boxplot(` &lt;dataName&gt;\\$&lt;varName&gt; `)` \n",
    "- Split by a second variable `boxplot(` &lt;dataName&gt;\\$&lt;var1Name&gt; `~` &lt;dataName&gt;\\$&lt;var2Name&gt; `)` or  <br> `boxplot(` &lt;var1Name&gt; `~` &lt;var2Name&gt;, data = &lt;dataName&gt; `)`<br>\n",
    "\n",
    "\n",
    "\n",
    "The first form will create one boxplot and the second will create side-by-side boxplots, one for each value of the second variable.\n",
    "* a. Create a boxplot for the personal income.\n",
    "* b. Based on the boxplot created for part a, what can you say about the values over $100,000.\n",
    "* c. Create side by side boxplots for the personal income of male and female respondents.\n",
    "* d. Based on the side by side boxplots created for part b, what can you say about the relationship between gender and personal income. <br>"
   ]
  },
  {
   "cell_type": "code",
   "execution_count": null,
   "id": "f2c61b05",
   "metadata": {},
   "outputs": [],
   "source": []
  },
  {
   "cell_type": "markdown",
   "id": "a196bef7",
   "metadata": {},
   "source": [
    "Type your answer for b here"
   ]
  },
  {
   "cell_type": "code",
   "execution_count": null,
   "id": "9fe5bd37",
   "metadata": {},
   "outputs": [],
   "source": []
  },
  {
   "cell_type": "markdown",
   "id": "5fc53334",
   "metadata": {},
   "source": [
    "Type your answer for c here"
   ]
  },
  {
   "cell_type": "markdown",
   "id": "ac733197",
   "metadata": {
    "editable": false
   },
   "source": [
    "## Question 5. Scatter Plots\n",
    "\n",
    "The plot command has the format <br>\n",
    "`plot(` x=&lt;variable&gt; `,` y=&lt;variable&gt; `, ` &lt; <br>\n",
    "\n",
    "`plot(` &lt;dataName&gt;\\$&lt;var1Name&gt; `~` &lt;dataName&gt;\\$&lt;var2Name&gt; `)` or <br>\n",
    "\n",
    "`plot(` &lt;var1Name&gt; `~` &lt;var2Name&gt;, data = &lt;dataName&gt; `)` \n",
    "\n",
    "\n",
    "\n",
    "options -see below&gt; `)`<br>\n",
    "Options appear in a comma delimited list:<br>\n",
    "`main = \"title\"` - where title is the title for the plot.<br>\n",
    "`xlab = \"x label\"` - where x label is the label for the x-axis. <br>\n",
    "`ylab = \"y label\"` - where y label is the label for the y-axis.\n",
    "\n",
    "* a. Use the `plot(x=`&lt;variable&gt;`,y=`&lt;variable`)` to make a scatterplot with the `age` on the x-axis and the `percent_family_income` on the y-axis for the `census` data set.\n",
    " - Add a good title, and labels for the x and y axis.\n"
   ]
  },
  {
   "cell_type": "code",
   "execution_count": null,
   "id": "93da61f2",
   "metadata": {},
   "outputs": [],
   "source": []
  },
  {
   "cell_type": "markdown",
   "id": "91ab4d85",
   "metadata": {
    "editable": false
   },
   "source": [
    "## Question 6:\n",
    "\n",
    "Below I have made the wrong plots for some situations. See if you can make better ones."
   ]
  },
  {
   "cell_type": "code",
   "execution_count": 11,
   "id": "04d248c2",
   "metadata": {
    "editable": false
   },
   "outputs": [
    {
     "data": {
      "image/png": "[encoded data removed]",
      "text/plain": [
       "Plot with title “Percent Family Income vs Age”"
      ]
     },
     "metadata": {
      "image/png": {
       "height": 420,
       "width": 420
      }
     },
     "output_type": "display_data"
    }
   ],
   "source": [
    "boxplot(percent_family_income~age,data=census,\n",
    "        main=\"Percent Family Income vs Age\")"
   ]
  },
  {
   "cell_type": "markdown",
   "id": "f9f7d9d4",
   "metadata": {},
   "source": [
    "Put a better plot for Percent Family Income vs Age below."
   ]
  },
  {
   "cell_type": "code",
   "execution_count": null,
   "id": "20f12333",
   "metadata": {},
   "outputs": [],
   "source": []
  },
  {
   "cell_type": "code",
   "execution_count": 14,
   "id": "3e65e03b",
   "metadata": {
    "editable": false
   },
   "outputs": [
    {
     "data": {
      "image/png": "[encoded data removed]",
      "text/plain": [
       "Plot with title “Distribution of the variable Age”"
      ]
     },
     "metadata": {
      "image/png": {
       "height": 420,
       "width": 420
      }
     },
     "output_type": "display_data"
    }
   ],
   "source": [
    "plot(census$age, main=\"Distribution of the variable Age\")"
   ]
  },
  {
   "cell_type": "markdown",
   "id": "18c59bb8",
   "metadata": {},
   "source": [
    "Put a better plot for the disribution of Age below."
   ]
  },
  {
   "cell_type": "code",
   "execution_count": null,
   "id": "18016b1c",
   "metadata": {},
   "outputs": [],
   "source": []
  },
  {
   "cell_type": "code",
   "execution_count": 19,
   "id": "8059d14e",
   "metadata": {
    "editable": false
   },
   "outputs": [
    {
     "data": {
      "image/png": "[encoded data removed]",
      "text/plain": [
       "Plot with title “Plot of total family income vs marital status”"
      ]
     },
     "metadata": {
      "image/png": {
       "height": 420,
       "width": 420
      }
     },
     "output_type": "display_data"
    }
   ],
   "source": [
    "mosaicplot(census$total_family_income,census$marital_status,main=\"Plot of total family income vs marital status\")"
   ]
  },
  {
   "cell_type": "markdown",
   "id": "e2e8eb78",
   "metadata": {
    "editable": false
   },
   "source": [
    "Put a better plot of total family income vs marital status below."
   ]
  },
  {
   "cell_type": "code",
   "execution_count": null,
   "id": "4babc3d6",
   "metadata": {},
   "outputs": [],
   "source": []
  }
 ],
 "metadata": {
  "kernelspec": {
   "display_name": "R",
   "language": "R",
   "name": "ir"
  },
  "language_info": {
   "codemirror_mode": "r",
   "file_extension": ".r",
   "mimetype": "text/x-r-source",
   "name": "R",
   "pygments_lexer": "r",
   "version": "4.1.2"
  }
 },
 "nbformat": 4,
 "nbformat_minor": 5
}
